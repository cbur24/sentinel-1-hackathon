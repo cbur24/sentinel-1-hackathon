{
 "cells": [
  {
   "cell_type": "markdown",
   "id": "e6c23ff4",
   "metadata": {},
   "source": [
    "# Loading Geoscience Australia's Sentinel-1 IW Backscatter from a STAC endpoint (collection 0)\n",
    "\n",
    "This notebook demonstrates key steps for using Python to load preliminary Sentinel-1 IW backscatter products developed by Geoscience Australia. \n",
    "\n",
    "For Sentinel-1, Geoscience Australia's Digital Earth (DE) branch are currently offering a suite of experimental products that we are calling collection 0, with sample data available over parts of Australia and Antarctica.\n",
    "The product is a collaborative effort from Digital Earth Australia and Digital Earth Antarctica.\n",
    "\n",
    "If you have any questions, please reach out to the Digital Earth Antarctica team at digitalearthantarctica@ga.gov.au.\n",
    "\n",
    "## Table of Contents\n",
    "* Set-up\n",
    "* Working with STAC\n",
    "* Searching and loading\n",
    "* Transforming and visualising\n",
    "    * Visualising\n",
    "    * Speckle filtering\n",
    "    * Masking\n",
    "    * Converting to decibels\n",
    "* Exporting"
   ]
  },
  {
   "cell_type": "markdown",
   "id": "f8304c9d",
   "metadata": {},
   "source": [
    "## Set-up\n",
    "\n",
    "### Prepare the environment\n",
    "\n",
    "You will need to install the required python packages, as described in the [README](README.md) file.\n",
    "\n",
    "Once you have a python environment with the required libraries, connect the notebook to that environment.\n",
    "\n",
    "### Import required libraries"
   ]
  },
  {
   "cell_type": "code",
   "execution_count": null,
   "id": "35412581",
   "metadata": {},
   "outputs": [],
   "source": [
    "import matplotlib.pyplot as plt\n",
    "import numpy as np\n",
    "from odc.stac import load, configure_s3_access\n",
    "from odc.geo import BoundingBox\n",
    "from odc.geo.xr import write_cog\n",
    "import pathlib\n",
    "from pystac_client import Client\n",
    "import xarray as xr"
   ]
  },
  {
   "cell_type": "markdown",
   "id": "c9b1a4a9",
   "metadata": {},
   "source": [
    "## Working with STAC\n",
    "\n",
    "STAC is a metadata standard and is commonly coupled with an API that allows users to query that metadata, making it easy to search for Earth observation datasets. \n",
    "DEA provide access to their STAC endpoint via Explorer.\n",
    "\n",
    "The first step is to connect to DE's development STAC catalog, where the Sentinel-1 collection 0 data is housed.\n",
    "The `pystac_client` python library is used to connect to the catalog.\n",
    "Data is stored in Amazon Web Service's S3 service, and is free to access without an account.\n",
    "The `odc_stac` python library is used to configure the required parameters for connecting to S3 without an account. "
   ]
  },
  {
   "cell_type": "code",
   "execution_count": null,
   "id": "9da60778",
   "metadata": {},
   "outputs": [],
   "source": [
    "catalog = \"https://explorer.dev.dea.ga.gov.au/stac\"\n",
    "\n",
    "stac_client = Client.open(catalog)\n",
    "\n",
    "configure_s3_access(\n",
    "    cloud_defaults=True, \n",
    "    aws_unsigned=True,\n",
    ")"
   ]
  },
  {
   "cell_type": "markdown",
   "id": "5e0f5544",
   "metadata": {},
   "source": [
    "### View available collections\n",
    "\n",
    "GA's Sentinel-1 data is published according to the polarisation mode used to capture the data.\n",
    "At this time, we publish data captured in Interferometric Wide (IW) mode. \n",
    "There are three products that we have experimental data for as part of our collection 0:\n",
    "* VV+VH: `ga_s1_iw_vv_vh_c0`\n",
    "* VV: `ga_s1_iw_vv_c0`\n",
    "* HH: `ga_s1_iw_hh_c0`\n",
    "\n",
    "You can see the distribution of captured data over time and space in the DEA Dev Explorer:\n",
    "* [VV+VH distribution](https://explorer.dev.dea.ga.gov.au/products/ga_s1_iw_vv_vh_c0)\n",
    "* [VV distribution](https://explorer.dev.dea.ga.gov.au/products/ga_s1_iw_vv_c0)\n",
    "* [HH distribution](https://explorer.dev.dea.ga.gov.au/products/ga_s1_iw_hh_c0)"
   ]
  },
  {
   "cell_type": "code",
   "execution_count": null,
   "id": "0b0c7886",
   "metadata": {},
   "outputs": [],
   "source": [
    "results = stac_client.collection_search(q=\"ga_s1*_c0\")\n",
    "\n",
    "collections = [result.id for result in results.collection_list()]\n",
    "\n",
    "print(f\"Available collections: {collections}\")"
   ]
  },
  {
   "cell_type": "markdown",
   "id": "a00001b9",
   "metadata": {},
   "source": [
    "## Searching and Loading\n",
    "\n",
    "This section provides examples for both Australia and Antarctica, as there are some differences between the two. \n",
    "Differences in polarisation are due to [Sentinel-1's observation scenarios](https://sentinels.copernicus.eu/copernicus/sentinel-1/acquisition-plans/observation-scenario-archive).\n",
    "The table below captures the primary differences in the collection 0 offering:\n",
    "\n",
    "| Property | Australia | Antarctica |\n",
    "| --- | ----------- | ----------- |\n",
    "| Primary capture mode | IW Vertical Dual-Polarisation (VV+VH) | IW Horizontal Single-Polarisation (HH) |\n",
    "| Primary product | `ga_s1_iw_vv_vh_c0` | `ga_s1_iw_hh_c0` |\n",
    "| Recommended CRS (metres) | UTM or EPSG:3577 | EPSG:3031 |\n",
    "| Group by method | Solar day | Scene ID |\n",
    "\n",
    "In Australia, there are a small number of IW Horizontal and Vertical Single-Polarisation acquisitions over south-east Queensland, but neither are the primary capture mode, and the collection 0 product only contains some data in 2024."
   ]
  },
  {
   "cell_type": "markdown",
   "id": "2a46fb4b",
   "metadata": {},
   "source": [
    "### Australia\n",
    "\n",
    "Here, we use a bounding box over Lake Sorell and Lake Crescent in Tasmania, and a date range of June 2020 through mid-July 2020."
   ]
  },
  {
   "cell_type": "code",
   "execution_count": null,
   "id": "0db28cb5",
   "metadata": {},
   "outputs": [],
   "source": [
    "aus_bbox = BoundingBox(\n",
    "    left=147.07251,\n",
    "    bottom=-42.22120,\n",
    "    right=147.24274,\n",
    "    top=-42.03035,\n",
    "    crs=\"EPSG:4326\"\n",
    ")\n",
    "\n",
    "aus_start_date = \"2020-06-01\"\n",
    "aus_end_date = \"2020-07-15\""
   ]
  },
  {
   "cell_type": "markdown",
   "id": "b0378dd8",
   "metadata": {},
   "source": [
    "The first step is to search for all observations that match these criteria, referred to as items in STAC. "
   ]
  },
  {
   "cell_type": "code",
   "execution_count": null,
   "id": "639c573c",
   "metadata": {},
   "outputs": [],
   "source": [
    "collections_query = [\"ga_s1_iw_vv_vh_c0\"]\n",
    "aus_date_query = f\"{aus_start_date}/{aus_end_date}\"\n",
    "aus_bbox_query = aus_bbox.bbox\n",
    "\n",
    "aus_items = stac_client.search(\n",
    "    collections=collections_query,\n",
    "    datetime=aus_date_query,\n",
    "    bbox=aus_bbox_query\n",
    ").item_collection()\n",
    "\n",
    "print(f\"Found {len(aus_items)} items\")"
   ]
  },
  {
   "cell_type": "markdown",
   "id": "bf5340af",
   "metadata": {},
   "source": [
    "When working with GA's Sentinel-1 products, each item corresponds to a single burst, which is a subset of a scene.\n",
    "The items contain the full STAC metadata, so information can be extracted from the properties.\n",
    "For example, below demonstrates the number of unique scenes that the 16 bursts come from:"
   ]
  },
  {
   "cell_type": "code",
   "execution_count": null,
   "id": "44ca6dc3",
   "metadata": {},
   "outputs": [],
   "source": [
    "unique_scenes = set([item.properties[\"nrb:scene_id\"][0] for item in aus_items])\n",
    "\n",
    "print(f\"The identified items come from {len(unique_scenes)} unique scenes\")"
   ]
  },
  {
   "cell_type": "markdown",
   "id": "ffe575da",
   "metadata": {},
   "source": [
    "Once the items have been identified, we use `odc-stac` to load them. \n",
    "With the `odc-stac` `load` command, you can specify:\n",
    "\n",
    "* `crs`: the coordinate reference system (CRS) to project loaded data to. If not specified, the data's native CRS will be used.\n",
    "* `resolution`: the resolution to load the data at, in the same units as the chosen CRS. If not specified, the data's native resolution will be used.\n",
    "* `intersects`: a bounding box to clip the loaded data to. If not specified, the whole item will be loaded.\n",
    "* `bands`: the measurements to load from the data (e.g. VV). If not specified, all measurements will be loaded.\n",
    "* `groupby`: how to group loaded data. For Australia, the value `solar_day` will ensure all bursts captured on the same day are grouped together under one time-stamp (this groups bursts from multiple scenes if captured on the same day).\n",
    "Alternatively, the value `nrb:source_id` will ensure all bursts captured within a scene are grouped together under one time-stamp.\n",
    "* `chunks={}`: request that the data be lazily loaded - an xarray showing the expected dimensions and measurements will be returned. Data will be computed when used. If not specified, data will be loaded into memory. \n",
    "\n",
    "> **Note:** When selecting a CRS for data over Australia, we recommend \"utm\" or \"EPSG:3577\" to get data back in a coordinate system that uses metres. \"utm\" will return the UTM projection that is most appropriate given the bounding box of the data. If loading data over large portions of Australia, Australian Albers (EPSG:3577) or another CRS may be more appropriate."
   ]
  },
  {
   "cell_type": "code",
   "execution_count": null,
   "id": "ce758738",
   "metadata": {},
   "outputs": [],
   "source": [
    "# Lazy load our filtered data\n",
    "aus_ds = load(\n",
    "    aus_items,\n",
    "    crs=\"utm\",\n",
    "    resolution=20,\n",
    "    intersects=aus_bbox.boundary(),\n",
    "    bands=[\"VV\", \"VH\", \"mask\"],\n",
    "    groupby=\"solar_day\",\n",
    "    chunks={},\n",
    ")\n",
    "\n",
    "aus_ds"
   ]
  },
  {
   "cell_type": "markdown",
   "id": "390820af",
   "metadata": {},
   "source": [
    "### Antarctica\n",
    "\n",
    "Here, we use a bounding box over Canada Glacier in eastern Antarctica, with a date range of June 2018 through July 2018."
   ]
  },
  {
   "cell_type": "code",
   "execution_count": null,
   "id": "f4192273",
   "metadata": {},
   "outputs": [],
   "source": [
    "ant_bbox = BoundingBox(\n",
    "    left=162.8555,\n",
    "    bottom=-77.6376,\n",
    "    right=163.0801,\n",
    "    top=-77.5813,\n",
    "    crs=\"EPSG:4326\"\n",
    ")\n",
    "\n",
    "ant_start_date = \"2018-06-01\"\n",
    "ant_end_date = \"2018-07-31\""
   ]
  },
  {
   "cell_type": "markdown",
   "id": "25d563fc",
   "metadata": {},
   "source": [
    "The first step is to search for all observations that match these criteria, referred to as items in STAC. "
   ]
  },
  {
   "cell_type": "code",
   "execution_count": null,
   "id": "c39cb24b",
   "metadata": {},
   "outputs": [],
   "source": [
    "collections_query = [\"ga_s1_iw_hh_c0\"]\n",
    "ant_date_query = f\"{ant_start_date}/{ant_end_date}\"\n",
    "ant_bbox_query = ant_bbox.bbox\n",
    "\n",
    "ant_items = stac_client.search(\n",
    "    collections=collections_query,\n",
    "    datetime=ant_date_query,\n",
    "    bbox=ant_bbox_query\n",
    ").item_collection()\n",
    "\n",
    "print(f\"Found {len(ant_items)} items\")"
   ]
  },
  {
   "cell_type": "markdown",
   "id": "a132c573",
   "metadata": {},
   "source": [
    "When working with GA's Sentinel-1 products, each item corresponds to a single burst, which is a subset of a scene.\n",
    "The items contain the full STAC metadata, so information can be extracted from the properties.\n",
    "For example, below demonstrates the number of unique scenes that the 10 bursts come from:"
   ]
  },
  {
   "cell_type": "code",
   "execution_count": null,
   "id": "b3bee8a8",
   "metadata": {},
   "outputs": [],
   "source": [
    "unique_scenes = set([item.properties[\"nrb:scene_id\"][0] for item in ant_items])\n",
    "\n",
    "print(f\"The identified items come from {len(unique_scenes)} unique scenes\")"
   ]
  },
  {
   "cell_type": "markdown",
   "id": "339d05bb",
   "metadata": {},
   "source": [
    "Once the items have been identified, we use `odc-stac` to load them. \n",
    "With the `odc-stac` `load` command, you can specify:\n",
    "\n",
    "* `crs`: the coordinate reference system (CRS) to project loaded data to. If not specified, the data's native CRS will be used.\n",
    "* `resolution`: the resolution to load the data at, in the same units as the chosen CRS. If not specified, the data's native resolution will be used.\n",
    "* `intersects`: a bounding box to clip the loaded data to. If not specified, the whole item will be loaded.\n",
    "* `bands`: the measurements to load from the data (e.g. HH). If not specified, all measurements will be loaded.\n",
    "* `groupby`: how to group loaded data. For Antarctica, the value `nrb:source_id` will ensure all bursts captured within a scene are grouped together under one time-stamp.\n",
    "* `chunks={}`: request that the data be lazily loaded - an xarray showing the expected dimensions and measurements will be returned. Data will be computed when used. If not specified, data will be loaded into memory. \n",
    "\n",
    "> **Note:** When selecting a CRS for data over Antarctica, we recommend \"EPSG:3031\", which matches the data's native projection."
   ]
  },
  {
   "cell_type": "code",
   "execution_count": null,
   "id": "1e9966ec",
   "metadata": {},
   "outputs": [],
   "source": [
    "# Lazy load our filtered data\n",
    "ant_ds = load(\n",
    "    ant_items,\n",
    "    crs=\"EPSG:3031\",\n",
    "    resolution=20,\n",
    "    intersects=ant_bbox.boundary(),\n",
    "    bands=[\"HH\", \"mask\"],\n",
    "    groupby=\"nrb:scene_id\",\n",
    "    chunks={},\n",
    ")\n",
    "\n",
    "ant_ds"
   ]
  },
  {
   "cell_type": "markdown",
   "id": "876cbda2",
   "metadata": {},
   "source": [
    "### Loading data in memory\n",
    "\n",
    "Once you have decided you are happy with the area of interest, crs, resolution, bands, etc., you can load data into memory using xarray's `.compute` operation. \n",
    "\n",
    "This is valuable once you are ready to apply transformations to the data, or wish to visualise the data, as it will save needing to read the data into memory every time."
   ]
  },
  {
   "cell_type": "code",
   "execution_count": null,
   "id": "c5e94ae0",
   "metadata": {},
   "outputs": [],
   "source": [
    "aus_ds = aus_ds.compute()\n",
    "ant_ds = ant_ds.compute()"
   ]
  },
  {
   "cell_type": "markdown",
   "id": "a02399a0",
   "metadata": {},
   "source": [
    "## Transforming and visualising loaded data\n",
    "\n",
    "The GA Sentinel-1 backscatter products are provided as linear gamma0 values. \n",
    "It is common to apply some transformations, such as masking, speckle filtering, and converting from linear scale to decibels. \n",
    "For collection 0, converting to other normalisation conventions (e.g. sigma0 and beta0) is not currently available.\n",
    "\n",
    "If you need either sigma0 or beta0 for your work, please contact digitalearthantarctica@ga.gov.au with your request and information about your application to provide context about why you need an alternative normalisation convention. \n",
    "This helps us understand demand for these products, which may influence if we deliver them in future."
   ]
  },
  {
   "cell_type": "markdown",
   "id": "3492a9f0",
   "metadata": {},
   "source": [
    "### Visualising\n",
    "\n",
    "To see the full timeseries for a particular band, the following plotting command can be used:"
   ]
  },
  {
   "cell_type": "markdown",
   "id": "1b79f7b7",
   "metadata": {},
   "source": [
    "#### Australia\n",
    "\n",
    "The dark areas are the two lakes."
   ]
  },
  {
   "cell_type": "code",
   "execution_count": null,
   "id": "b5643f99",
   "metadata": {},
   "outputs": [],
   "source": [
    "aus_ds.VV.plot.imshow(col=\"time\", col_wrap=3, robust=True, cmap=\"Greys_r\")"
   ]
  },
  {
   "cell_type": "markdown",
   "id": "d4b17aa8",
   "metadata": {},
   "source": [
    "#### Antarctica\n",
    "The dark area corresponds to the glacier.\n",
    "The bright segments are likely due to layover as there is significant terrain in this region."
   ]
  },
  {
   "cell_type": "code",
   "execution_count": null,
   "id": "886c6e90",
   "metadata": {},
   "outputs": [],
   "source": [
    "ant_ds.HH.plot.imshow(col=\"time\", col_wrap=3, robust=True, cmap=\"Greys_r\")"
   ]
  },
  {
   "cell_type": "markdown",
   "id": "634c6c79",
   "metadata": {},
   "source": [
    "### Speckle filtering\n",
    "\n",
    "Speckle filtering aims to reduce noise present in SAR images.\n",
    "One filter that is commonly applied is the Lee filter.\n",
    "We have supplied a [python file](speckle_filters.py) that contains the Lee filter definition, as well as a function to apply it to xarrays.\n",
    "\n",
    "In the two examples below, we use a window value of 5 pixels.\n",
    "Due to the Antarctic example being a smaller area, it appears more blurred than the Australian example."
   ]
  },
  {
   "cell_type": "code",
   "execution_count": null,
   "id": "754becb6",
   "metadata": {},
   "outputs": [],
   "source": [
    "from speckle_filters import apply_lee_filter"
   ]
  },
  {
   "cell_type": "markdown",
   "id": "52d90f66",
   "metadata": {},
   "source": [
    "We also define a plotting function that allows us to compare the filtered and unfiltered bands:"
   ]
  },
  {
   "cell_type": "code",
   "execution_count": null,
   "id": "f7a307bb",
   "metadata": {},
   "outputs": [],
   "source": [
    "def compare_bands_plot(ds, time_index, band1, band2, cmap=\"Greys_r\"):\n",
    "    ds_timestep = ds.isel(time=time_index)\n",
    "\n",
    "    fig, axes = plt.subplots(1, 2, figsize=(10, 5))\n",
    "\n",
    "    ds_timestep[band1].plot(ax=axes[0], cmap=cmap, robust=True)\n",
    "    ds_timestep[band2].plot(ax=axes[1], cmap=cmap, robust=True)\n",
    "\n",
    "    plt.tight_layout()\n",
    "    plt.show()"
   ]
  },
  {
   "cell_type": "markdown",
   "id": "03adb2bd",
   "metadata": {},
   "source": [
    "#### Australia\n",
    "\n",
    "In this example, we apply the Lee filter using a uniform filter window size of 5 pixels."
   ]
  },
  {
   "cell_type": "code",
   "execution_count": null,
   "id": "cbab2e04",
   "metadata": {},
   "outputs": [],
   "source": [
    "aus_ds[\"VV_filtered\"] = apply_lee_filter(aus_ds.VV, size=5)\n",
    "\n",
    "compare_bands_plot(ds=aus_ds, time_index=0, band1=\"VV\", band2=\"VV_filtered\")"
   ]
  },
  {
   "cell_type": "markdown",
   "id": "0cc580c8",
   "metadata": {},
   "source": [
    "#### Antarctica\n",
    "\n",
    "In this example, we apply the Lee filter using a uniform filter window size of 5 pixels."
   ]
  },
  {
   "cell_type": "code",
   "execution_count": null,
   "id": "70751e8d",
   "metadata": {},
   "outputs": [],
   "source": [
    "ant_ds[\"HH_filtered\"] = apply_lee_filter(ant_ds.HH, size=5)\n",
    "\n",
    "compare_bands_plot(ds=ant_ds, time_index=0, band1=\"HH\", band2=\"HH_filtered\")"
   ]
  },
  {
   "cell_type": "markdown",
   "id": "7070c171",
   "metadata": {},
   "source": [
    "### Masking\n",
    "\n",
    "The GA Sentinel-1 backscatter product comes with a mask that indicates invalid pixels, along with pixels impacted by layover and shadow. \n",
    "\n",
    "The masks have the following values:\n",
    "| Value | Property |\n",
    "| --- | ----------- |\n",
    "| 0 | Valid | \n",
    "| 1 | Shadow |\n",
    "| 2 | Layover |\n",
    "| 3 | Shadow and layover |\n",
    "| 255 / NaN | Invalid |\n",
    "\n",
    "The following code displays the masks and shows how to apply them."
   ]
  },
  {
   "cell_type": "markdown",
   "id": "2179967d",
   "metadata": {},
   "source": [
    "#### Australia\n",
    "\n",
    "Viewing the masks for each observation, there is very little layover or shadow in this area. \n",
    "This is consistent with there not being much terrain in the chosen area."
   ]
  },
  {
   "cell_type": "code",
   "execution_count": null,
   "id": "f469ee11",
   "metadata": {},
   "outputs": [],
   "source": [
    "aus_ds.mask.plot.imshow(\n",
    "    col=\"time\",\n",
    "    col_wrap=3,\n",
    "    levels=[-0.5, 0.5, 1.5, 2.5, 3.5], \n",
    "    cbar_kwargs={'ticks': [0, 1, 2, 3]}\n",
    ")"
   ]
  },
  {
   "cell_type": "markdown",
   "id": "0feacd15",
   "metadata": {},
   "source": [
    "##### Applying the mask\n",
    "\n",
    "To apply the mask, we use xarray's where function, which takes the condition, followed by the values to keep if the condition is true, followed by the values to use if the condition is false. \n",
    "The following code creates a new band, `VV_filtered_masked`, that keeps the original `VV_filtered` values where the mask is equal to 0, and replaces values with NaN otherwise.\n",
    "\n",
    "For plotting, this time we use a non-grey colour bar to make the effect of the masking more obvious (although there is little masking in this scene)."
   ]
  },
  {
   "cell_type": "code",
   "execution_count": null,
   "id": "4a6dba65",
   "metadata": {},
   "outputs": [],
   "source": [
    "aus_ds[\"VV_filtered_masked\"] = xr.where(aus_ds.mask==0, aus_ds.VV_filtered, np.nan)\n",
    "aus_ds.VV_filtered_masked.isel(time=0).plot.imshow(robust=True)"
   ]
  },
  {
   "cell_type": "markdown",
   "id": "4964a62c",
   "metadata": {},
   "source": [
    "#### Antarctica\n",
    "\n",
    "There is significant terrain in the region that may introducing bright and dark artifacts from layover and shadow.\n",
    "Viewing the mask shows there are multiple areas flagged as affected by layover, and it is important to replace these values with no-data (NaN) before continuing with any analysis."
   ]
  },
  {
   "cell_type": "code",
   "execution_count": null,
   "id": "3f672bb0",
   "metadata": {},
   "outputs": [],
   "source": [
    "ant_ds.mask.plot.imshow(\n",
    "    col=\"time\",\n",
    "    col_wrap=3,\n",
    "    levels=[-0.5, 0.5, 1.5, 2.5, 3.5], \n",
    "    cbar_kwargs={'ticks': [0, 1, 2, 3]}\n",
    ")"
   ]
  },
  {
   "cell_type": "markdown",
   "id": "67360923",
   "metadata": {},
   "source": [
    "##### Applying the mask\n",
    "\n",
    "To apply the mask, we use xarray's where function, which takes the condition, followed by the values to keep if the condition is true, followed by the values to use if the condition is false. \n",
    "The following code creates a new band, `HH_filtered_masked`, that keeps the original `HH_filtered` values where the mask is equal to 0, and replaces values with NaN otherwise.\n",
    "Each observation has its own mask, which will be applied when using this approach.\n",
    "\n",
    "For plotting, this time we use a non-grey colour bar to make the effect of the masking more obvious."
   ]
  },
  {
   "cell_type": "code",
   "execution_count": null,
   "id": "5d516dbb",
   "metadata": {},
   "outputs": [],
   "source": [
    "ant_ds[\"HH_filtered_masked\"] = xr.where(ant_ds.mask==0, ant_ds.HH_filtered, np.nan)\n",
    "ant_ds.HH_filtered_masked.isel(time=0).plot.imshow(robust=True)"
   ]
  },
  {
   "cell_type": "markdown",
   "id": "2a719dde",
   "metadata": {},
   "source": [
    "### Converting to decibels\n",
    "\n",
    "GA's Sentinel-1 backscatter product is provided as linear gamma0. \n",
    "For some analyses, it may be beneficial to convert the linear backscatter to decibels (dB).\n",
    "\n",
    "The conversion equation is \n",
    "$$\\text{backscatter}_{\\text{dB}} = 10 \\times \\log_{10}(\\text{backscatter}_\\text{linear})$$"
   ]
  },
  {
   "cell_type": "markdown",
   "id": "915dfe8b",
   "metadata": {},
   "source": [
    "#### Australia"
   ]
  },
  {
   "cell_type": "code",
   "execution_count": null,
   "id": "1c611f4c",
   "metadata": {},
   "outputs": [],
   "source": [
    "aus_ds[\"VV_filtered_masked_db\"] = 10*np.log10(aus_ds.VV_filtered_masked)\n",
    "\n",
    "aus_ds.VV_filtered_masked_db.plot.imshow(col=\"time\", col_wrap=3, cmap=\"Greys_r\")"
   ]
  },
  {
   "cell_type": "markdown",
   "id": "96fc8fa2",
   "metadata": {},
   "source": [
    "#### Antarctica"
   ]
  },
  {
   "cell_type": "code",
   "execution_count": null,
   "id": "b8134ef5",
   "metadata": {},
   "outputs": [],
   "source": [
    "ant_ds[\"HH_filtered_masked_db\"] = 10*np.log10(ant_ds.HH_filtered_masked)\n",
    "\n",
    "ant_ds.HH_filtered_masked_db.plot.imshow(col=\"time\", col_wrap=3, cmap=\"Greys_r\")"
   ]
  },
  {
   "cell_type": "markdown",
   "id": "7c9902df",
   "metadata": {},
   "source": [
    "### Exporting\n",
    "\n",
    "Once you have generated the data you need, you may wish to export it to enable further analysis.\n",
    "The `odc_geo` python library provides a useful function for exporting cloud optimised GEOtiffs.\n",
    "First, we'll create a folder to store the outputs in."
   ]
  },
  {
   "cell_type": "code",
   "execution_count": null,
   "id": "644678b5",
   "metadata": {},
   "outputs": [],
   "source": [
    "output_path = pathlib.Path(\"outputs\")\n",
    "output_path.mkdir(exist_ok=True)"
   ]
  },
  {
   "cell_type": "markdown",
   "id": "723974ad",
   "metadata": {},
   "source": [
    "#### Single time step\n",
    "\n",
    "The `write_cog` function is designed to export a single time step. \n",
    "The following code shows how to isolate the first time step and export it."
   ]
  },
  {
   "cell_type": "code",
   "execution_count": null,
   "id": "130d5493",
   "metadata": {},
   "outputs": [],
   "source": [
    "# Australia\n",
    "write_cog(\n",
    "    aus_ds.VV_filtered_masked_db.isel(time=0),\n",
    "    output_path / \"STAC_Australia_VV_filtered_masked_db_single_timestep.cog\",\n",
    "    overwrite=True\n",
    ")\n",
    "\n",
    "# Antarctica\n",
    "write_cog(\n",
    "    ant_ds.HH_filtered_masked_db.isel(time=0), \n",
    "    output_path / \"STAC_Antarctica_HH_filtered_masked_db_single_timestep.cog\", \n",
    "    overwrite=True\n",
    ")\n"
   ]
  },
  {
   "cell_type": "markdown",
   "id": "e5de59cd",
   "metadata": {},
   "source": [
    "#### Multiple time steps\n",
    "\n",
    "It is possible to wrap the above function in a loop to allow you to export all time steps in an xarray.\n",
    "We also include code to extract the datetime of each image, which can then be used to label the output file."
   ]
  },
  {
   "cell_type": "code",
   "execution_count": null,
   "id": "3bb3d0e6",
   "metadata": {},
   "outputs": [],
   "source": [
    "# Australia\n",
    "aus_dt_strings = aus_ds.time.dt.strftime(\"%Y-%m-%d\").values\n",
    "for timestep in range(len(aus_ds.time)):\n",
    "    filename = output_path / f\"STAC_Australia_VV_filtered_masked_db_t{timestep}_{aus_dt_strings[timestep]}.cog\"\n",
    "    array = aus_ds.VV_filtered_masked_db.isel(time=timestep)\n",
    "    write_cog(array, filename, overwrite=True)\n",
    "\n",
    "# Antarctica\n",
    "ant_dt_strings = ant_ds.time.dt.strftime(\"%Y-%m-%d\").values\n",
    "for timestep in range(len(ant_ds.time)):\n",
    "    filename = output_path / f\"STAC_Antarctica_HH_filtered_masked_db_t{timestep}_{ant_dt_strings[timestep]}.cog\"\n",
    "    array = ant_ds.HH_filtered_masked_db.isel(time=timestep)\n",
    "    write_cog(array, filename, overwrite=True)"
   ]
  }
 ],
 "metadata": {
  "kernelspec": {
   "display_name": "default",
   "language": "python",
   "name": "python3"
  },
  "language_info": {
   "codemirror_mode": {
    "name": "ipython",
    "version": 3
   },
   "file_extension": ".py",
   "mimetype": "text/x-python",
   "name": "python",
   "nbconvert_exporter": "python",
   "pygments_lexer": "ipython3",
   "version": "3.13.3"
  }
 },
 "nbformat": 4,
 "nbformat_minor": 5
}
