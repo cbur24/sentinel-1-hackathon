{
 "cells": [
  {
   "cell_type": "markdown",
   "id": "e6c23ff4",
   "metadata": {},
   "source": [
    "# Loading Geoscience Australia's Sentinel-1 IW Backscatter from the dev Open Data Cube (collection 0)\n",
    "\n",
    "This notebook demonstrates key steps for using Python to load preliminary Sentinel-1 IW backscatter products developed by Geoscience Australia. \n",
    "\n",
    "For Sentinel-1, Geoscience Australia's Digital Earth (DE) branch are currently offering a suite of experimental products that we are calling collection 0, with sample data available over parts of Australia and Antarctica.\n",
    "The product is a collaborative effort from Digital Earth Australia and Digital Earth Antarctica.\n",
    "\n",
    "If you have any questions, please reach out to the Digital Earth Antarctica team at digitalearthantarctica@ga.gov.au.\n",
    "\n",
    "## Table of Contents\n",
    "* Set-up\n",
    "* Working with Datacube\n",
    "* Searching and loading\n",
    "* Transforming and visualising\n",
    "    * Visualising\n",
    "    * Speckle filtering\n",
    "    * Masking\n",
    "    * Converting to decibels\n",
    "* Exporting"
   ]
  },
  {
   "cell_type": "markdown",
   "id": "f8304c9d",
   "metadata": {},
   "source": [
    "## Set-up\n",
    "\n",
    "### Prepare the environment\n",
    "\n",
    "When working on the Digital Earth Dev Sandbox, there is no need to install any packages.\n",
    "\n",
    "### Import required libraries"
   ]
  },
  {
   "cell_type": "code",
   "execution_count": null,
   "id": "35412581",
   "metadata": {},
   "outputs": [],
   "source": [
    "import matplotlib.pyplot as plt\n",
    "import numpy as np\n",
    "import datacube\n",
    "from odc.geo import BoundingBox\n",
    "from odc.geo.xr import write_cog\n",
    "import pathlib\n",
    "from pystac_client import Client\n",
    "import xarray as xr"
   ]
  },
  {
   "cell_type": "markdown",
   "id": "c9b1a4a9",
   "metadata": {},
   "source": [
    "## Working with Datacube\n",
    "\n",
    "The Sandbox environment has direct access to Digital Earth's Open Data Cube, allowing users to connect via the `datacube` library.\n",
    "\n",
    "The first step is to establish a connection to the datacube."
   ]
  },
  {
   "cell_type": "code",
   "execution_count": null,
   "id": "9da60778",
   "metadata": {},
   "outputs": [],
   "source": [
    "dc = datacube.Datacube(app='S1_Backscatter')"
   ]
  },
  {
   "cell_type": "markdown",
   "id": "5e0f5544",
   "metadata": {},
   "source": [
    "### View available collections\n",
    "\n",
    "GA's Sentinel-1 data is published according to the polarisation mode used to capture the data.\n",
    "At this time, we publish data captured in Interferometric Wide (IW) mode. \n",
    "There are three products that we have experimental data for as part of our collection 0:\n",
    "* VV+VH: `ga_s1_iw_vv_vh_c0`\n",
    "* VV: `ga_s1_iw_vv_c0`\n",
    "* HH: `ga_s1_iw_hh_c0`\n",
    "\n",
    "You can see the distribution of captured data over time and space in the DEA Dev Explorer:\n",
    "* [VV+VH distribution](https://explorer.dev.dea.ga.gov.au/products/ga_s1_iw_vv_vh_c0)\n",
    "* [VV distribution](https://explorer.dev.dea.ga.gov.au/products/ga_s1_iw_vv_c0)\n",
    "* [HH distribution](https://explorer.dev.dea.ga.gov.au/products/ga_s1_iw_hh_c0)"
   ]
  },
  {
   "cell_type": "code",
   "execution_count": null,
   "id": "0b0c7886",
   "metadata": {},
   "outputs": [],
   "source": [
    "dc_products = dc.list_products()\n",
    "dc_products.loc[[\"ga_s1_iw_vv_vh_c0\", \"ga_s1_iw_vv_c0\", \"ga_s1_iw_hh_c0\"]]"
   ]
  },
  {
   "cell_type": "markdown",
   "id": "2eea3860-51df-49cc-97a5-8a48bbef0e69",
   "metadata": {},
   "source": [
    "#### Troubleshooting\n",
    "\n",
    "If you don't see any products, make sure you're working in the Dev Sandbox. \n",
    "The collection 0 products are only indexed in the dev datacube."
   ]
  },
  {
   "cell_type": "markdown",
   "id": "a00001b9",
   "metadata": {},
   "source": [
    "## Searching and Loading\n",
    "\n",
    "This section provides examples for both Australia and Antarctica, as there are some differences between the two. \n",
    "Differences in polarisation are due to [Sentinel-1's observation scenarios](https://sentinels.copernicus.eu/copernicus/sentinel-1/acquisition-plans/observation-scenario-archive).\n",
    "The table below captures the primary differences in the collection 0 offering:\n",
    "\n",
    "| Property | Australia | Antarctica |\n",
    "| --- | ----------- | ----------- |\n",
    "| Primary capture mode | IW Vertical Dual-Polarisation (VV+VH) | IW Horizontal Single-Polarisation (HH) |\n",
    "| Primary product | `ga_s1_iw_vv_vh_c0` | `ga_s1_iw_hh_c0` |\n",
    "| Recommended CRS (metres) | UTM or EPSG:3577 | EPSG:3031 |\n",
    "| Group by method | Solar day | Scene ID |\n",
    "\n",
    "In Australia, there are a small number of IW Horizontal and Vertical Single-Polarisation acquisitions over south-east Queensland, but neither are the primary capture mode, and the collection 0 product only contains some data in 2024."
   ]
  },
  {
   "cell_type": "markdown",
   "id": "2a46fb4b",
   "metadata": {},
   "source": [
    "### Australia\n",
    "\n",
    "Here, we use a bounding box over Lake Sorell and Lake Crescent in Tasmania, and a date range of June 2020 through mid-July 2020."
   ]
  },
  {
   "cell_type": "code",
   "execution_count": null,
   "id": "0db28cb5",
   "metadata": {},
   "outputs": [],
   "source": [
    "aus_bbox = BoundingBox(\n",
    "    left=147.07251,\n",
    "    bottom=-42.22120,\n",
    "    right=147.24274,\n",
    "    top=-42.03035,\n",
    "    crs=\"EPSG:4326\"\n",
    ")\n",
    "\n",
    "aus_start_date = \"2020-06-01\"\n",
    "aus_end_date = \"2020-07-15\""
   ]
  },
  {
   "cell_type": "markdown",
   "id": "ffe575da",
   "metadata": {},
   "source": [
    "To load the data, we use `dc.load`. With the `dc.load` command, you can specify:\n",
    "\n",
    "* `product`: the product, or list of products to load from.\n",
    "* `lon`: the longitude range to load the data for. If not specified, the product's maximum range will be used.\n",
    "* `lat`: the latitude range to load the data for. If not specified, the product's maximum range will be used.\n",
    "* `time`: the date range to load the data for. If not specified the product's maximum range will be used.\n",
    "* `measurements`: the measurements to load from the data (e.g. VV). If not specified, all measurements will be loaded.\n",
    "* `group_by`: how to group loaded data. For Australia, the value `solar_day` will ensure all bursts captured on the same day are grouped together under one time-stamp (this groups bursts from multiple scenes if captured on the same day).\n",
    "* `output_crs`: the coordinate reference system (CRS) to project loaded data to. If not specified, the data's native CRS will be used.\n",
    "* `resolution`: the resolution to load the data at, in the same units as the chosen CRS. If not specified, the data's native resolution will be used.\n",
    "* `dask_chunks={}`: request that the data be lazily loaded - an xarray showing the expected dimensions and measurements will be returned. Data will be computed when used. If not specified, data will be loaded into memory. \n",
    "\n",
    "> **Note:** When selecting a CRS for data over Australia, we recommend  \"EPSG:3577\" to get data back in a coordinate system that uses metres. Alternatively, you can use the UTM zone CRS for your area of interest. In this case, this is \"EPSG:32755\", which we use for consistency with the STAC notebook."
   ]
  },
  {
   "cell_type": "code",
   "execution_count": null,
   "id": "ce758738",
   "metadata": {},
   "outputs": [],
   "source": [
    "# Lazy load our filtered data\n",
    "aus_ds = dc.load(\n",
    "    product=\"ga_s1_iw_vv_vh_c0\",\n",
    "    x=(aus_bbox.left, aus_bbox.right),\n",
    "    y=(aus_bbox.bottom, aus_bbox.top),\n",
    "    time=(aus_start_date, aus_end_date),\n",
    "    measurements=[\"VV\", \"VH\", \"mask\"],\n",
    "    group_by=\"solar_day\",\n",
    "    output_crs=\"EPSG:32755\",\n",
    "    resolution=(20, -20),\n",
    "    dask_chunks={},\n",
    ")\n",
    "\n",
    "aus_ds"
   ]
  },
  {
   "cell_type": "markdown",
   "id": "390820af",
   "metadata": {},
   "source": [
    "### Antarctica\n",
    "\n",
    "Here, we use a bounding box over Canada Glacier in eastern Antarctica, with a date range of June 2018 through July 2018."
   ]
  },
  {
   "cell_type": "code",
   "execution_count": null,
   "id": "f4192273",
   "metadata": {},
   "outputs": [],
   "source": [
    "ant_bbox = BoundingBox(\n",
    "    left=162.8555,\n",
    "    bottom=-77.6376,\n",
    "    right=163.0801,\n",
    "    top=-77.5813,\n",
    "    crs=\"EPSG:4326\"\n",
    ")\n",
    "\n",
    "ant_start_date = \"2018-06-01\"\n",
    "ant_end_date = \"2018-07-31\""
   ]
  },
  {
   "cell_type": "markdown",
   "id": "339d05bb",
   "metadata": {},
   "source": [
    "To load the data, we use `dc.load`. With the `dc.load` command, you can specify:\n",
    "\n",
    "* `product`: the product, or list of products to load from.\n",
    "* `lon`: the longitude range to load the data for. If not specified, the product's maximum range will be used.\n",
    "* `lat`: the latitude range to load the data for. If not specified, the product's maximum range will be used.\n",
    "* `time`: the date range to load the data for. If not specified the product's maximum range will be used.\n",
    "* `measurements`: the measurements to load from the data (e.g. VV). If not specified, all measurements will be loaded.\n",
    "* `group_by`: how to group loaded data. For Antarctica, it is preferred to group bursts by scene. The team is still developing this functionality. The next best option is to group by `solar_day`, which will ensure all bursts captured on the same solar day are grouped together under one time-stamp (this is not ideal for Antarctica, but is sufficient for now).\n",
    "* `output_crs`: the coordinate reference system (CRS) to project loaded data to. If not specified, the data's native CRS will be used.\n",
    "* `resolution`: the resolution to load the data at, in the same units as the chosen CRS. If not specified, the data's native resolution will be used.\n",
    "* `dask_chunks={}`: request that the data be lazily loaded - an xarray showing the expected dimensions and measurements will be returned. Data will be computed when used. If not specified, data will be loaded into memory.  \n",
    "\n",
    "> **Note:** When selecting a CRS for data over Antarctica, we recommend \"EPSG:3031\", which matches the data's native projection."
   ]
  },
  {
   "cell_type": "code",
   "execution_count": null,
   "id": "1e9966ec",
   "metadata": {},
   "outputs": [],
   "source": [
    "# Lazy load our filtered data\n",
    "ant_ds = dc.load(\n",
    "    product=\"ga_s1_iw_hh_c0\",\n",
    "    x=(ant_bbox.left, ant_bbox.right),\n",
    "    y=(ant_bbox.bottom, ant_bbox.top),\n",
    "    time=(ant_start_date, ant_end_date),\n",
    "    measurements=[\"HH\", \"mask\"],\n",
    "    group_by=\"solar_day\",\n",
    "    output_crs=\"EPSG:3031\",\n",
    "    resolution=(20, -20),\n",
    "    dask_chunks={},\n",
    ")\n",
    "\n",
    "ant_ds"
   ]
  },
  {
   "cell_type": "markdown",
   "id": "876cbda2",
   "metadata": {},
   "source": [
    "### Loading data in memory\n",
    "\n",
    "Once you have decided you are happy with the area of interest, crs, resolution, bands, etc., you can load data into memory using xarray's `.compute` operation. \n",
    "\n",
    "This is valuable once you are ready to apply transformations to the data, or wish to visualise the data, as it will save needing to read the data into memory every time."
   ]
  },
  {
   "cell_type": "code",
   "execution_count": null,
   "id": "c5e94ae0",
   "metadata": {},
   "outputs": [],
   "source": [
    "aus_ds = aus_ds.compute()\n",
    "ant_ds = ant_ds.compute()"
   ]
  },
  {
   "cell_type": "markdown",
   "id": "a02399a0",
   "metadata": {},
   "source": [
    "## Transforming and visualising loaded data\n",
    "\n",
    "The GA Sentinel-1 backscatter products are provided as linear gamma0 values. \n",
    "It is common to apply some transformations, such as masking, speckle filtering, and converting from linear scale to decibels. \n",
    "For collection 0, converting to other normalisation conventions (e.g. sigma0 and beta0) is not currently available.\n",
    "\n",
    "If you need either sigma0 or beta0 for your work, please contact digitalearthantarctica@ga.gov.au with your request and information about your application to provide context about why you need an alternative normalisation convention. \n",
    "This helps us understand demand for these products, which may influence if we deliver them in future."
   ]
  },
  {
   "cell_type": "markdown",
   "id": "3492a9f0",
   "metadata": {},
   "source": [
    "### Visualising\n",
    "\n",
    "To see the full timeseries for a particular band, the following plotting command can be used:"
   ]
  },
  {
   "cell_type": "markdown",
   "id": "1b79f7b7",
   "metadata": {},
   "source": [
    "#### Australia\n",
    "\n",
    "The dark areas are the two lakes."
   ]
  },
  {
   "cell_type": "code",
   "execution_count": null,
   "id": "b5643f99",
   "metadata": {},
   "outputs": [],
   "source": [
    "aus_ds.VV.plot.imshow(col=\"time\", col_wrap=3, robust=True, cmap=\"Greys_r\")"
   ]
  },
  {
   "cell_type": "markdown",
   "id": "d4b17aa8",
   "metadata": {},
   "source": [
    "#### Antarctica\n",
    "The dark area corresponds to the glacier.\n",
    "The bright segments are likely due to layover as there is significant terrain in this region."
   ]
  },
  {
   "cell_type": "code",
   "execution_count": null,
   "id": "886c6e90",
   "metadata": {},
   "outputs": [],
   "source": [
    "ant_ds.HH.plot.imshow(col=\"time\", col_wrap=3, robust=True, cmap=\"Greys_r\")"
   ]
  },
  {
   "cell_type": "markdown",
   "id": "634c6c79",
   "metadata": {},
   "source": [
    "### Speckle filtering\n",
    "\n",
    "Speckle filtering aims to reduce noise present in SAR images.\n",
    "One filter that is commonly applied is the Lee filter.\n",
    "We have supplied a [python file](speckle_filters.py) that contains the Lee filter definition, as well as a function to apply it to xarrays.\n",
    "\n",
    "In the two examples below, we use a window value of 5 pixels.\n",
    "Due to the Antarctic example being a smaller area, it appears more blurred than the Australian example."
   ]
  },
  {
   "cell_type": "code",
   "execution_count": null,
   "id": "754becb6",
   "metadata": {},
   "outputs": [],
   "source": [
    "from speckle_filters import apply_lee_filter"
   ]
  },
  {
   "cell_type": "markdown",
   "id": "52d90f66",
   "metadata": {},
   "source": [
    "We also define a plotting function that allows us to compare the filtered and unfiltered bands:"
   ]
  },
  {
   "cell_type": "code",
   "execution_count": null,
   "id": "f7a307bb",
   "metadata": {},
   "outputs": [],
   "source": [
    "def compare_bands_plot(ds, time_index, band1, band2, cmap=\"Greys_r\"):\n",
    "    ds_timestep = ds.isel(time=time_index)\n",
    "\n",
    "    fig, axes = plt.subplots(1, 2, figsize=(10, 5))\n",
    "\n",
    "    ds_timestep[band1].plot(ax=axes[0], cmap=cmap, robust=True)\n",
    "    ds_timestep[band2].plot(ax=axes[1], cmap=cmap, robust=True)\n",
    "\n",
    "    plt.tight_layout()\n",
    "    plt.show()"
   ]
  },
  {
   "cell_type": "markdown",
   "id": "03adb2bd",
   "metadata": {},
   "source": [
    "#### Australia\n",
    "\n",
    "In this example, we apply the Lee filter using a uniform filter window size of 5 pixels."
   ]
  },
  {
   "cell_type": "code",
   "execution_count": null,
   "id": "cbab2e04",
   "metadata": {},
   "outputs": [],
   "source": [
    "aus_ds[\"VV_filtered\"] = apply_lee_filter(aus_ds.VV, size=5)\n",
    "\n",
    "compare_bands_plot(ds=aus_ds, time_index=0, band1=\"VV\", band2=\"VV_filtered\")"
   ]
  },
  {
   "cell_type": "markdown",
   "id": "0cc580c8",
   "metadata": {},
   "source": [
    "#### Antarctica\n",
    "\n",
    "In this example, we apply the Lee filter using a uniform filter window size of 5 pixels."
   ]
  },
  {
   "cell_type": "code",
   "execution_count": null,
   "id": "70751e8d",
   "metadata": {},
   "outputs": [],
   "source": [
    "ant_ds[\"HH_filtered\"] = apply_lee_filter(ant_ds.HH, size=5)\n",
    "\n",
    "compare_bands_plot(ds=ant_ds, time_index=0, band1=\"HH\", band2=\"HH_filtered\")"
   ]
  },
  {
   "cell_type": "markdown",
   "id": "7070c171",
   "metadata": {},
   "source": [
    "### Masking\n",
    "\n",
    "The GA Sentinel-1 backscatter product comes with a mask that indicates invalid pixels, along with pixels impacted by layover and shadow. \n",
    "\n",
    "The masks have the following values:\n",
    "| Value | Property |\n",
    "| --- | ----------- |\n",
    "| 0 | Valid | \n",
    "| 1 | Shadow |\n",
    "| 2 | Layover |\n",
    "| 3 | Shadow and layover |\n",
    "| 255 / NaN | Invalid |\n",
    "\n",
    "The following code displays the masks and shows how to apply them."
   ]
  },
  {
   "cell_type": "markdown",
   "id": "2179967d",
   "metadata": {},
   "source": [
    "#### Australia\n",
    "\n",
    "Viewing the masks for each observation, there is very little layover or shadow in this area. \n",
    "This is consistent with there not being much terrain in the chosen area."
   ]
  },
  {
   "cell_type": "code",
   "execution_count": null,
   "id": "f469ee11",
   "metadata": {},
   "outputs": [],
   "source": [
    "aus_ds.mask.plot.imshow(\n",
    "    col=\"time\",\n",
    "    col_wrap=3,\n",
    "    levels=[-0.5, 0.5, 1.5, 2.5, 3.5], \n",
    "    cbar_kwargs={'ticks': [0, 1, 2, 3]}\n",
    ")"
   ]
  },
  {
   "cell_type": "markdown",
   "id": "0feacd15",
   "metadata": {},
   "source": [
    "##### Applying the mask\n",
    "\n",
    "To apply the mask, we use xarray's where function, which takes the condition, followed by the values to keep if the condition is true, followed by the values to use if the condition is false. \n",
    "The following code creates a new band, `VV_filtered_masked`, that keeps the original `VV_filtered` values where the mask is equal to 0, and replaces values with NaN otherwise.\n",
    "\n",
    "For plotting, this time we use a non-grey colour bar to make the effect of the masking more obvious (although there is little masking in this scene)."
   ]
  },
  {
   "cell_type": "code",
   "execution_count": null,
   "id": "4a6dba65",
   "metadata": {},
   "outputs": [],
   "source": [
    "aus_ds[\"VV_filtered_masked\"] = xr.where(aus_ds.mask==0, aus_ds.VV_filtered, np.nan)\n",
    "aus_ds.VV_filtered_masked.isel(time=0).plot.imshow(robust=True)"
   ]
  },
  {
   "cell_type": "markdown",
   "id": "4964a62c",
   "metadata": {},
   "source": [
    "#### Antarctica\n",
    "\n",
    "There is significant terrain in the region that may introducing bright and dark artifacts from layover and shadow.\n",
    "Viewing the mask shows there are multiple areas flagged as affected by layover, and it is important to replace these values with no-data (NaN) before continuing with any analysis."
   ]
  },
  {
   "cell_type": "code",
   "execution_count": null,
   "id": "3f672bb0",
   "metadata": {},
   "outputs": [],
   "source": [
    "ant_ds.mask.plot.imshow(\n",
    "    col=\"time\",\n",
    "    col_wrap=3,\n",
    "    levels=[-0.5, 0.5, 1.5, 2.5, 3.5], \n",
    "    cbar_kwargs={'ticks': [0, 1, 2, 3]}\n",
    ")"
   ]
  },
  {
   "cell_type": "markdown",
   "id": "67360923",
   "metadata": {},
   "source": [
    "##### Applying the mask\n",
    "\n",
    "To apply the mask, we use xarray's where function, which takes the condition, followed by the values to keep if the condition is true, followed by the values to use if the condition is false. \n",
    "The following code creates a new band, `HH_filtered_masked`, that keeps the original `HH_filtered` values where the mask is equal to 0, and replaces values with NaN otherwise.\n",
    "Each observation has its own mask, which will be applied when using this approach.\n",
    "\n",
    "For plotting, this time we use a non-grey colour bar to make the effect of the masking more obvious."
   ]
  },
  {
   "cell_type": "code",
   "execution_count": null,
   "id": "5d516dbb",
   "metadata": {},
   "outputs": [],
   "source": [
    "ant_ds[\"HH_filtered_masked\"] = xr.where(ant_ds.mask==0, ant_ds.HH_filtered, np.nan)\n",
    "ant_ds.HH_filtered_masked.isel(time=0).plot.imshow(robust=True)"
   ]
  },
  {
   "cell_type": "markdown",
   "id": "2a719dde",
   "metadata": {},
   "source": [
    "### Converting to decibels\n",
    "\n",
    "GA's Sentinel-1 backscatter product is provided as linear gamma0. \n",
    "For some analyses, it may be beneficial to convert the linear backscatter to decibels (dB).\n",
    "\n",
    "The conversion equation is \n",
    "$$\\text{backscatter}_{\\text{dB}} = 10 \\times \\log_{10}(\\text{backscatter}_\\text{linear})$$"
   ]
  },
  {
   "cell_type": "markdown",
   "id": "915dfe8b",
   "metadata": {},
   "source": [
    "#### Australia"
   ]
  },
  {
   "cell_type": "code",
   "execution_count": null,
   "id": "1c611f4c",
   "metadata": {},
   "outputs": [],
   "source": [
    "aus_ds[\"VV_filtered_masked_db\"] = 10*np.log10(aus_ds.VV_filtered_masked)\n",
    "\n",
    "aus_ds.VV_filtered_masked_db.plot.imshow(col=\"time\", col_wrap=3, cmap=\"Greys_r\")"
   ]
  },
  {
   "cell_type": "markdown",
   "id": "96fc8fa2",
   "metadata": {},
   "source": [
    "#### Antarctica"
   ]
  },
  {
   "cell_type": "code",
   "execution_count": null,
   "id": "b8134ef5",
   "metadata": {},
   "outputs": [],
   "source": [
    "ant_ds[\"HH_filtered_masked_db\"] = 10*np.log10(ant_ds.HH_filtered_masked)\n",
    "\n",
    "ant_ds.HH_filtered_masked_db.plot.imshow(col=\"time\", col_wrap=3, cmap=\"Greys_r\")"
   ]
  },
  {
   "cell_type": "markdown",
   "id": "7c9902df",
   "metadata": {},
   "source": [
    "### Exporting\n",
    "\n",
    "Once you have generated the data you need, you may wish to export it to enable further analysis.\n",
    "The `odc_geo` python library provides a useful function for exporting cloud optimised GEOtiffs.\n",
    "First, we'll create a folder to store the outputs in."
   ]
  },
  {
   "cell_type": "code",
   "execution_count": null,
   "id": "644678b5",
   "metadata": {},
   "outputs": [],
   "source": [
    "output_path = pathlib.Path(\"outputs\")\n",
    "output_path.mkdir(exist_ok=True)"
   ]
  },
  {
   "cell_type": "markdown",
   "id": "723974ad",
   "metadata": {},
   "source": [
    "#### Single time step\n",
    "\n",
    "The `write_cog` function is designed to export a single time step. \n",
    "The following code shows how to isolate the first time step and export it."
   ]
  },
  {
   "cell_type": "code",
   "execution_count": null,
   "id": "130d5493",
   "metadata": {},
   "outputs": [],
   "source": [
    "# Australia\n",
    "write_cog(\n",
    "    aus_ds.VV_filtered_masked_db.isel(time=0),\n",
    "    output_path / \"Datacube_Australia_VV_filtered_masked_db_single_timestep.cog\",\n",
    "    overwrite=True\n",
    ")\n",
    "\n",
    "# Antarctica\n",
    "write_cog(\n",
    "    ant_ds.HH_filtered_masked_db.isel(time=0), \n",
    "    output_path / \"Datacube_Antarctica_HH_filtered_masked_db_single_timestep.cog\", \n",
    "    overwrite=True\n",
    ")\n"
   ]
  },
  {
   "cell_type": "markdown",
   "id": "e5de59cd",
   "metadata": {},
   "source": [
    "#### Multiple time steps\n",
    "\n",
    "It is possible to wrap the above function in a loop to allow you to export all time steps in an xarray."
   ]
  },
  {
   "cell_type": "code",
   "execution_count": null,
   "id": "3bb3d0e6",
   "metadata": {},
   "outputs": [],
   "source": [
    "# Australia\n",
    "aus_dt_strings = aus_ds.time.dt.strftime(\"%Y-%m-%d\").values\n",
    "for timestep in range(len(aus_ds.time)):\n",
    "    filename = output_path / f\"Datacube_Australia_VV_filtered_masked_db_t{timestep}_{aus_dt_strings[timestep]}.cog\"\n",
    "    array = aus_ds.VV_filtered_masked_db.isel(time=timestep)\n",
    "    write_cog(array, filename, overwrite=True)\n",
    "\n",
    "# Antarctica\n",
    "ant_dt_strings = ant_ds.time.dt.strftime(\"%Y-%m-%d\").values\n",
    "for timestep in range(len(ant_ds.time)):\n",
    "    filename = output_path / f\"Datacube_Antarctica_HH_filtered_masked_db_t{timestep}_{ant_dt_strings[timestep]}.cog\"\n",
    "    array = ant_ds.HH_filtered_masked_db.isel(time=timestep)\n",
    "    write_cog(array, filename, overwrite=True)"
   ]
  }
 ],
 "metadata": {
  "kernelspec": {
   "display_name": "Python 3 (ipykernel)",
   "language": "python",
   "name": "python3"
  },
  "language_info": {
   "codemirror_mode": {
    "name": "ipython",
    "version": 3
   },
   "file_extension": ".py",
   "mimetype": "text/x-python",
   "name": "python",
   "nbconvert_exporter": "python",
   "pygments_lexer": "ipython3",
   "version": "3.10.15"
  }
 },
 "nbformat": 4,
 "nbformat_minor": 5
}
